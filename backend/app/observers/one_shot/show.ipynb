{
 "cells": [
  {
   "cell_type": "code",
   "execution_count": 1,
   "id": "9468163d",
   "metadata": {},
   "outputs": [],
   "source": [
    "import pandas as pd"
   ]
  },
  {
   "cell_type": "code",
   "execution_count": 2,
   "id": "f4119806",
   "metadata": {},
   "outputs": [],
   "source": [
    "df = pd.read_csv(\"/home/kalki/src/valency/reactor/backend/app/observers/one_shot/outputs/experiment-22-08-2025-<18-20>/findings.csv\")"
   ]
  },
  {
   "cell_type": "code",
   "execution_count": 3,
   "id": "2fb7c9f9",
   "metadata": {},
   "outputs": [
    {
     "data": {
      "text/html": [
       "<div>\n",
       "<style scoped>\n",
       "    .dataframe tbody tr th:only-of-type {\n",
       "        vertical-align: middle;\n",
       "    }\n",
       "\n",
       "    .dataframe tbody tr th {\n",
       "        vertical-align: top;\n",
       "    }\n",
       "\n",
       "    .dataframe thead th {\n",
       "        text-align: right;\n",
       "    }\n",
       "</style>\n",
       "<table border=\"1\" class=\"dataframe\">\n",
       "  <thead>\n",
       "    <tr style=\"text-align: right;\">\n",
       "      <th></th>\n",
       "      <th>sl_no</th>\n",
       "      <th>model_type</th>\n",
       "      <th>model_name</th>\n",
       "      <th>reaction_type</th>\n",
       "      <th>reactions_text</th>\n",
       "      <th>reactions_composition_SMILES</th>\n",
       "      <th>reactions_SMILES</th>\n",
       "      <th>reactions_SMARTS</th>\n",
       "      <th>reactions_SMIRKS</th>\n",
       "    </tr>\n",
       "  </thead>\n",
       "  <tbody>\n",
       "    <tr>\n",
       "      <th>0</th>\n",
       "      <td>1</td>\n",
       "      <td>openai</td>\n",
       "      <td>gpt-5-2025-08-07</td>\n",
       "      <td>Synthesis/Combination Reaction</td>\n",
       "      <td>['General description: A synthesis (combinatio...</td>\n",
       "      <td>[['[Fe].[Fe].[Fe].[Fe].[Fe].[Fe].[Fe].[Fe].S1S...</td>\n",
       "      <td>['[Fe].[Fe].[Fe].[Fe].[Fe].[Fe].[Fe].[Fe].S1SS...</td>\n",
       "      <td>['[Fe].[S]1[S][S][S][S][S][S][S]1&gt;&gt;[Fe]S', '[H...</td>\n",
       "      <td>['[Fe:1].[S:2]&gt;&gt;[Fe:1]-[S:2]', '[H:1][H:2].[H:...</td>\n",
       "    </tr>\n",
       "    <tr>\n",
       "      <th>1</th>\n",
       "      <td>2</td>\n",
       "      <td>openai</td>\n",
       "      <td>gpt-5-2025-08-07</td>\n",
       "      <td>Decomposition Reaction</td>\n",
       "      <td>['General decomposition reaction: a single com...</td>\n",
       "      <td>[['O.O', '[H][H].[H][H].O=O']]</td>\n",
       "      <td>['O.O&gt;&gt;[H][H].[H][H].O=O']</td>\n",
       "      <td>['[*:1]~[*:2]&gt;&gt;[*:1].[*:2]']</td>\n",
       "      <td>['[*:1]~[*:2]&gt;&gt;[*:1].[*:2]']</td>\n",
       "    </tr>\n",
       "    <tr>\n",
       "      <th>2</th>\n",
       "      <td>3</td>\n",
       "      <td>openai</td>\n",
       "      <td>gpt-5-2025-08-07</td>\n",
       "      <td>Single Displacement/Substitution</td>\n",
       "      <td>['General description: In a single displacemen...</td>\n",
       "      <td>[['[Mg]', '[H]O[H]', '[H]O[H]', '[H]O[Mg]O[H]'...</td>\n",
       "      <td>['[Mg].[H]O[H].[H]O[H]&gt;&gt;[H]O[Mg]O[H].[H][H]']</td>\n",
       "      <td>['[Mg:1].[H:2][O:3][H:4].[H:5][O:6][H:7]&gt;&gt;[O:3...</td>\n",
       "      <td>['[Mg:1].[H:2][O:3][H:4].[H:5][O:6][H:7]&gt;&gt;[O:3...</td>\n",
       "    </tr>\n",
       "    <tr>\n",
       "      <th>3</th>\n",
       "      <td>4</td>\n",
       "      <td>openai</td>\n",
       "      <td>gpt-5-2025-08-07</td>\n",
       "      <td>Double Displacement/Substitution</td>\n",
       "      <td>['Example 1 (precipitation): Aqueous barium ch...</td>\n",
       "      <td>[['[Ba+2].[Cl-].[Cl-]', '[Mg+2].[O-]S(=O)(=O)[...</td>\n",
       "      <td>['[Ba+2].[Cl-].[Cl-].[Mg+2].[O-]S(=O)(=O)[O-]&gt;...</td>\n",
       "      <td>['[Ba+2].[Cl-].[Cl-].[Mg+2].[O-]S(=O)(=O)[O-]&gt;...</td>\n",
       "      <td>['[Ba+2:1].[Cl-:2].[Cl-:3].[Mg+2:4].[O-:5][S:7...</td>\n",
       "    </tr>\n",
       "    <tr>\n",
       "      <th>4</th>\n",
       "      <td>5</td>\n",
       "      <td>openai</td>\n",
       "      <td>gpt-5-2025-08-07</td>\n",
       "      <td>Combustion Reaction</td>\n",
       "      <td>['Combustion of octane (C8H18) in oxygen: One ...</td>\n",
       "      <td>[['CCCCCCCC', 'O=O', 'O=C=O', 'O'], ['[Mg]', '...</td>\n",
       "      <td>['CCCCCCCC.O=O&gt;&gt;O=C=O.O', '[Mg].O=O&gt;&gt;[Mg]O', '...</td>\n",
       "      <td>['CCCCCCCC.O=O&gt;&gt;O=C=O.O', '[Mg].O=O&gt;&gt;[Mg]O', '...</td>\n",
       "      <td>['CCCCCCCC.O=O&gt;&gt;O=C=O.O', '[Mg].O=O&gt;&gt;[Mg]O', '...</td>\n",
       "    </tr>\n",
       "  </tbody>\n",
       "</table>\n",
       "</div>"
      ],
      "text/plain": [
       "   sl_no model_type        model_name                     reaction_type  \\\n",
       "0      1     openai  gpt-5-2025-08-07    Synthesis/Combination Reaction   \n",
       "1      2     openai  gpt-5-2025-08-07            Decomposition Reaction   \n",
       "2      3     openai  gpt-5-2025-08-07  Single Displacement/Substitution   \n",
       "3      4     openai  gpt-5-2025-08-07  Double Displacement/Substitution   \n",
       "4      5     openai  gpt-5-2025-08-07               Combustion Reaction   \n",
       "\n",
       "                                      reactions_text  \\\n",
       "0  ['General description: A synthesis (combinatio...   \n",
       "1  ['General decomposition reaction: a single com...   \n",
       "2  ['General description: In a single displacemen...   \n",
       "3  ['Example 1 (precipitation): Aqueous barium ch...   \n",
       "4  ['Combustion of octane (C8H18) in oxygen: One ...   \n",
       "\n",
       "                        reactions_composition_SMILES  \\\n",
       "0  [['[Fe].[Fe].[Fe].[Fe].[Fe].[Fe].[Fe].[Fe].S1S...   \n",
       "1                     [['O.O', '[H][H].[H][H].O=O']]   \n",
       "2  [['[Mg]', '[H]O[H]', '[H]O[H]', '[H]O[Mg]O[H]'...   \n",
       "3  [['[Ba+2].[Cl-].[Cl-]', '[Mg+2].[O-]S(=O)(=O)[...   \n",
       "4  [['CCCCCCCC', 'O=O', 'O=C=O', 'O'], ['[Mg]', '...   \n",
       "\n",
       "                                    reactions_SMILES  \\\n",
       "0  ['[Fe].[Fe].[Fe].[Fe].[Fe].[Fe].[Fe].[Fe].S1SS...   \n",
       "1                         ['O.O>>[H][H].[H][H].O=O']   \n",
       "2      ['[Mg].[H]O[H].[H]O[H]>>[H]O[Mg]O[H].[H][H]']   \n",
       "3  ['[Ba+2].[Cl-].[Cl-].[Mg+2].[O-]S(=O)(=O)[O-]>...   \n",
       "4  ['CCCCCCCC.O=O>>O=C=O.O', '[Mg].O=O>>[Mg]O', '...   \n",
       "\n",
       "                                    reactions_SMARTS  \\\n",
       "0  ['[Fe].[S]1[S][S][S][S][S][S][S]1>>[Fe]S', '[H...   \n",
       "1                       ['[*:1]~[*:2]>>[*:1].[*:2]']   \n",
       "2  ['[Mg:1].[H:2][O:3][H:4].[H:5][O:6][H:7]>>[O:3...   \n",
       "3  ['[Ba+2].[Cl-].[Cl-].[Mg+2].[O-]S(=O)(=O)[O-]>...   \n",
       "4  ['CCCCCCCC.O=O>>O=C=O.O', '[Mg].O=O>>[Mg]O', '...   \n",
       "\n",
       "                                    reactions_SMIRKS  \n",
       "0  ['[Fe:1].[S:2]>>[Fe:1]-[S:2]', '[H:1][H:2].[H:...  \n",
       "1                       ['[*:1]~[*:2]>>[*:1].[*:2]']  \n",
       "2  ['[Mg:1].[H:2][O:3][H:4].[H:5][O:6][H:7]>>[O:3...  \n",
       "3  ['[Ba+2:1].[Cl-:2].[Cl-:3].[Mg+2:4].[O-:5][S:7...  \n",
       "4  ['CCCCCCCC.O=O>>O=C=O.O', '[Mg].O=O>>[Mg]O', '...  "
      ]
     },
     "execution_count": 3,
     "metadata": {},
     "output_type": "execute_result"
    }
   ],
   "source": [
    "df.head()"
   ]
  },
  {
   "cell_type": "code",
   "execution_count": 5,
   "id": "8d308ec7",
   "metadata": {},
   "outputs": [
    {
     "data": {
      "text/plain": [
       "array(['gpt-5-2025-08-07', 'xai/grok-4-0709', 'gemini/gemini-2.5-pro',\n",
       "       'claude-opus-4-20250514', 'groq/openai/gpt-oss-120b',\n",
       "       'groq/openai/gpt-oss-20b', 'groq/moonshotai/kimi-k2-instruct'],\n",
       "      dtype=object)"
      ]
     },
     "execution_count": 5,
     "metadata": {},
     "output_type": "execute_result"
    }
   ],
   "source": [
    "df[\"model_name\"].unique()"
   ]
  },
  {
   "cell_type": "code",
   "execution_count": 9,
   "id": "a92b6140",
   "metadata": {},
   "outputs": [
    {
     "data": {
      "text/plain": [
       "\"['General description: A synthesis (combination) reaction combines two or more simpler substances into a single, more complex product. It is typically represented as A + B -> AB, where multiple reactants yield one product. These reactions are one of the four fundamental reaction classes (synthesis, decomposition, single replacement, double replacement) and are used to build complex compounds from simpler elements or molecules.', 'Example 1 (formation of iron(II) sulfide): Solid iron metal reacts with elemental sulfur (as cyclo-octasulfur, S8) to form iron(II) sulfide. Balanced equation: 8 Fe + S8 -> 8 FeS. Conceptually, zero-valent Fe atoms and S atoms from the S8 ring combine to give Fe–S units in FeS; the macroscopic product is typically a solid sulfide.', 'Example 2 (formation of water): Hydrogen and oxygen gases combine to produce water. Balanced equation: 2 H2 + O2 -> 2 H2O. Two molecules of dihydrogen and one molecule of dioxygen react to form two molecules of water; overall, H–H and O=O bonds are broken and O–H bonds are formed in the product.']\""
      ]
     },
     "execution_count": 9,
     "metadata": {},
     "output_type": "execute_result"
    }
   ],
   "source": [
    "df[\"reactions_text\"][0]"
   ]
  },
  {
   "cell_type": "code",
   "execution_count": 14,
   "id": "5b153f52",
   "metadata": {},
   "outputs": [
    {
     "data": {
      "text/plain": [
       "\"[['[Fe].[Fe].[Fe].[Fe].[Fe].[Fe].[Fe].[Fe].S1SSSSSSS1', '[Fe]S.[Fe]S.[Fe]S.[Fe]S.[Fe]S.[Fe]S.[Fe]S.[Fe]S'], ['[H][H].[H][H].O=O', 'O.O']]\""
      ]
     },
     "execution_count": 14,
     "metadata": {},
     "output_type": "execute_result"
    }
   ],
   "source": [
    "df[\"reactions_composition_SMILES\"][0]"
   ]
  },
  {
   "cell_type": "code",
   "execution_count": 13,
   "id": "ab8daa02",
   "metadata": {},
   "outputs": [
    {
     "data": {
      "text/plain": [
       "\"['[Fe].[Fe].[Fe].[Fe].[Fe].[Fe].[Fe].[Fe].S1SSSSSSS1>>[Fe]S.[Fe]S.[Fe]S.[Fe]S.[Fe]S.[Fe]S.[Fe]S.[Fe]S', '[H][H].[H][H].O=O>>O.O']\""
      ]
     },
     "execution_count": 13,
     "metadata": {},
     "output_type": "execute_result"
    }
   ],
   "source": [
    "df[\"reactions_SMILES\"][0]"
   ]
  },
  {
   "cell_type": "code",
   "execution_count": null,
   "id": "5170564f",
   "metadata": {},
   "outputs": [],
   "source": []
  },
  {
   "cell_type": "code",
   "execution_count": null,
   "id": "974a36dd",
   "metadata": {},
   "outputs": [],
   "source": []
  }
 ],
 "metadata": {
  "kernelspec": {
   "display_name": "venv",
   "language": "python",
   "name": "python3"
  },
  "language_info": {
   "codemirror_mode": {
    "name": "ipython",
    "version": 3
   },
   "file_extension": ".py",
   "mimetype": "text/x-python",
   "name": "python",
   "nbconvert_exporter": "python",
   "pygments_lexer": "ipython3",
   "version": "3.12.3"
  }
 },
 "nbformat": 4,
 "nbformat_minor": 5
}
